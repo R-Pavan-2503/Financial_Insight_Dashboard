{
 "cells": [
  {
   "cell_type": "code",
   "execution_count": 14,
   "id": "04ee828f-9836-4a87-a06e-38d2d93ee670",
   "metadata": {},
   "outputs": [],
   "source": [
    "import pandas as pd\n",
    "import yfinance as yf\n",
    "from alpha_vantage.timeseries import TimeSeries\n",
    "from sklearn.preprocessing import MinMaxScaler, StandardScaler\n",
    "from sklearn.ensemble import RandomForestRegressor, GradientBoostingRegressor\n",
    "from sklearn.metrics import mean_squared_error, r2_score\n",
    "from sklearn.model_selection import train_test_split\n",
    "from pymongo import MongoClient\n",
    "import numpy as np\n",
    "from scipy.optimize import minimize\n",
    "import statsmodels.api as sm\n",
    "import ipywidgets as widgets\n",
    "from IPython.display import display, HTML\n"
   ]
  },
  {
   "cell_type": "code",
   "execution_count": 15,
   "id": "1ff625d2-37a1-4c9e-904f-1fdf2e16896c",
   "metadata": {},
   "outputs": [],
   "source": [
    "# Function to fetch stock data from Yahoo Finance\n",
    "def fetch_yahoo_finance_data(ticker, start_date, end_date):\n",
    "    data = yf.download(ticker, start=start_date, end=end_date)\n",
    "    return data\n",
    "\n",
    "# Function to fetch data from Alpha Vantage\n",
    "def fetch_alpha_vantage_data(ticker, api_key):\n",
    "    ts = TimeSeries(key=api_key, output_format='pandas')\n",
    "    data, meta_data = ts.get_daily(symbol=ticker, outputsize='full')\n",
    "    return data\n",
    "\n",
    "# Function to clean the data\n",
    "def clean_data(data):\n",
    "    data = data.drop_duplicates()\n",
    "    data = data.fillna(method='ffill').fillna(method='bfill')\n",
    "    return data\n",
    "\n",
    "# Function to normalize the data\n",
    "def normalize_data(data):\n",
    "    scaler = MinMaxScaler()\n",
    "    normalized_data = pd.DataFrame(scaler.fit_transform(data), columns=data.columns, index=data.index)\n",
    "    return normalized_data\n",
    "\n",
    "# Function to standardize the data\n",
    "def standardize_data(data):\n",
    "    scaler = StandardScaler()\n",
    "    standardized_data = pd.DataFrame(scaler.fit_transform(data), columns=data.columns, index=data.index)\n",
    "    return standardized_data\n",
    "\n",
    "# Function to save DataFrame to MongoDB\n",
    "def save_to_mongo(collection_name, data, db):\n",
    "    collection = db[collection_name]\n",
    "    collection.delete_many({})  # Clear existing data\n",
    "    collection.insert_many(data.reset_index().to_dict('records'))\n",
    "\n",
    "# Function to forecast future values using trained models\n",
    "def forecast_future_values(model, data, periods=30):\n",
    "    data = data.ffill().bfill()\n",
    "    last_date = data.index[-1]\n",
    "    future_dates = pd.date_range(start=last_date + pd.Timedelta(days=1), periods=periods, freq='D')\n",
    "    future_data = pd.DataFrame(index=future_dates)\n",
    "    future_features = pd.DataFrame(index=future_dates, columns=data.columns)\n",
    "    for col in data.columns:\n",
    "        future_features[col] = data[col].iloc[-1]\n",
    "    future_features = future_features.fillna(0)\n",
    "    if hasattr(model, 'feature_names_in_'):\n",
    "        missing_cols = set(model.feature_names_in_) - set(future_features.columns)\n",
    "        if missing_cols:\n",
    "            raise ValueError(f\"Feature names missing in future data: {missing_cols}\")\n",
    "    future_features = future_features[model.feature_names_in_]\n",
    "    future_predictions = model.predict(future_features)\n",
    "    return future_data, future_predictions\n",
    "\n",
    "# Function to calculate portfolio return and risk\n",
    "def portfolio_performance(weights, returns):\n",
    "    portfolio_return = np.sum(returns.mean() * weights) * 252\n",
    "    portfolio_risk = np.sqrt(np.dot(weights.T, np.dot(returns.cov() * 252, weights)))\n",
    "    return portfolio_return, portfolio_risk\n",
    "\n",
    "# Function to minimize the negative Sharpe ratio\n",
    "def minimize_sharpe_ratio(weights, returns, risk_free_rate=0.01):\n",
    "    portfolio_return, portfolio_risk = portfolio_performance(weights, returns)\n",
    "    return - (portfolio_return - risk_free_rate) / portfolio_risk\n",
    "\n",
    "# Optimization constraints\n",
    "def optimize_portfolio(returns):\n",
    "    num_assets = len(returns.columns)\n",
    "    initial_weights = num_assets * [1. / num_assets]\n",
    "    bounds = tuple((0, 1) for asset in range(num_assets))\n",
    "    constraints = ({'type': 'eq', 'fun': lambda x: np.sum(x) - 1})\n",
    "    result = minimize(minimize_sharpe_ratio, initial_weights, args=(returns,), method='SLSQP', bounds=bounds, constraints=constraints)\n",
    "    return result.x\n",
    "\n",
    "# Anomaly detection function\n",
    "def detect_anomalies(data):\n",
    "    residuals = sm.tsa.ARIMA(data, order=(1, 0, 0)).fit().resid\n",
    "    std_residuals = np.std(residuals)\n",
    "    anomalies = residuals[np.abs(residuals) > 3 * std_residuals]\n",
    "    return anomalies\n",
    "\n",
    "# Monte Carlo simulation function\n",
    "def monte_carlo_simulation(returns, num_simulations=1000):\n",
    "    simulation_results = []\n",
    "    for _ in range(num_simulations):\n",
    "        simulated_returns = np.random.choice(returns, size=len(returns))\n",
    "        simulated_cumulative_returns = np.cumprod(1 + simulated_returns) - 1\n",
    "        simulation_results.append(simulated_cumulative_returns[-1])\n",
    "    return simulation_results\n"
   ]
  },
  {
   "cell_type": "code",
   "execution_count": 16,
   "id": "fd5a068f-1ee2-4152-901b-cc2f7914d90b",
   "metadata": {},
   "outputs": [
    {
     "name": "stderr",
     "output_type": "stream",
     "text": [
      "[*********************100%%**********************]  1 of 1 completed\n",
      "C:\\Users\\PAVAN\\AppData\\Local\\Temp\\ipykernel_13304\\1917328199.py:15: FutureWarning: DataFrame.fillna with 'method' is deprecated and will raise in a future version. Use obj.ffill() or obj.bfill() instead.\n",
      "  data = data.fillna(method='ffill').fillna(method='bfill')\n"
     ]
    }
   ],
   "source": [
    "# Connect to MongoDB\n",
    "client = MongoClient('mongodb://localhost:27017/')\n",
    "db = client['financial_data']\n",
    "\n",
    "# Fetch, clean, normalize, and standardize data\n",
    "yahoo_data = fetch_yahoo_finance_data('AAPL', '2020-01-01', '2023-01-01')\n",
    "alpha_data = fetch_alpha_vantage_data('AAPL', 'YOUR_ALPHA_VANTAGE_API_KEY')\n",
    "cleaned_yahoo_data = clean_data(yahoo_data)\n",
    "cleaned_alpha_data = clean_data(alpha_data)\n",
    "normalized_yahoo_data = normalize_data(cleaned_yahoo_data)\n",
    "standardized_yahoo_data = standardize_data(cleaned_yahoo_data)\n",
    "\n",
    "# Save the data to MongoDB\n",
    "save_to_mongo('yahoo_finance', cleaned_yahoo_data, db)\n",
    "save_to_mongo('alpha_vantage', cleaned_alpha_data, db)\n",
    "save_to_mongo('normalized_yahoo_finance', normalized_yahoo_data, db)\n",
    "save_to_mongo('standardized_yahoo_finance', standardized_yahoo_data, db)\n"
   ]
  },
  {
   "cell_type": "code",
   "execution_count": 17,
   "id": "b1e6aeb8-02a5-4cf4-a181-e76830216e4a",
   "metadata": {},
   "outputs": [
    {
     "name": "stdout",
     "output_type": "stream",
     "text": [
      "Random Forest - MSE: 0.00048479227308002604, R2: 0.9995539300006174\n",
      "Gradient Boosting - MSE: 0.00043620965950665514, R2: 0.9995986321289517\n"
     ]
    }
   ],
   "source": [
    "# Split data into training and testing sets\n",
    "X = standardized_yahoo_data.drop('Close', axis=1)\n",
    "y = standardized_yahoo_data['Close']\n",
    "X_train, X_test, y_train, y_test = train_test_split(X, y, test_size=0.2, random_state=42)\n",
    "\n",
    "# Initialize and train the models\n",
    "rf_model = RandomForestRegressor(n_estimators=100, random_state=42)\n",
    "rf_model.fit(X_train, y_train)\n",
    "\n",
    "gb_model = GradientBoostingRegressor(n_estimators=100, learning_rate=0.1, random_state=42)\n",
    "gb_model.fit(X_train, y_train)\n",
    "\n",
    "# Make predictions\n",
    "rf_predictions = rf_model.predict(X_test)\n",
    "gb_predictions = gb_model.predict(X_test)\n",
    "\n",
    "# Evaluate the models\n",
    "rf_mse = mean_squared_error(y_test, rf_predictions)\n",
    "rf_r2 = r2_score(y_test, rf_predictions)\n",
    "gb_mse = mean_squared_error(y_test, gb_predictions)\n",
    "gb_r2 = r2_score(y_test, gb_predictions)\n",
    "\n",
    "print(f\"Random Forest - MSE: {rf_mse}, R2: {rf_r2}\")\n",
    "print(f\"Gradient Boosting - MSE: {gb_mse}, R2: {gb_r2}\")\n",
    "\n",
    "# Forecast future values\n",
    "rf_future_data, rf_future_predictions = forecast_future_values(rf_model, cleaned_yahoo_data)\n",
    "gb_future_data, gb_future_predictions = forecast_future_values(gb_model, cleaned_yahoo_data)\n",
    "\n",
    "# Save future predictions to MongoDB\n",
    "save_to_mongo('rf_future_predictions', pd.DataFrame({'Date': rf_future_data.index, 'Predicted': rf_future_predictions}), db)\n",
    "save_to_mongo('gb_future_predictions', pd.DataFrame({'Date': gb_future_data.index, 'Predicted': gb_future_predictions}), db)\n"
   ]
  },
  {
   "cell_type": "code",
   "execution_count": 18,
   "id": "04cc4c94-2239-461b-9fc4-cab15f82f0cc",
   "metadata": {},
   "outputs": [
    {
     "name": "stdout",
     "output_type": "stream",
     "text": [
      "Optimal portfolio weights: [0.         0.         0.89190439 0.         0.         0.10809561]\n"
     ]
    },
    {
     "name": "stderr",
     "output_type": "stream",
     "text": [
      "C:\\Users\\PAVAN\\AppData\\Roaming\\Python\\Python311\\site-packages\\statsmodels\\tsa\\base\\tsa_model.py:473: ValueWarning: A date index has been provided, but it has no associated frequency information and so will be ignored when e.g. forecasting.\n",
      "  self._init_dates(dates, freq)\n",
      "C:\\Users\\PAVAN\\AppData\\Roaming\\Python\\Python311\\site-packages\\statsmodels\\tsa\\base\\tsa_model.py:473: ValueWarning: A date index has been provided, but it has no associated frequency information and so will be ignored when e.g. forecasting.\n",
      "  self._init_dates(dates, freq)\n",
      "C:\\Users\\PAVAN\\AppData\\Roaming\\Python\\Python311\\site-packages\\statsmodels\\tsa\\base\\tsa_model.py:473: ValueWarning: A date index has been provided, but it has no associated frequency information and so will be ignored when e.g. forecasting.\n",
      "  self._init_dates(dates, freq)\n"
     ]
    },
    {
     "name": "stdout",
     "output_type": "stream",
     "text": [
      "Detected anomalies: Date\n",
      "2020-01-02   -43.661170\n",
      "2020-07-31     9.986509\n",
      "2020-09-03   -10.473174\n",
      "2022-01-28    11.259786\n",
      "2022-10-28    11.036419\n",
      "2022-11-10    12.059666\n",
      "dtype: float64\n",
      "Monte Carlo simulation results: [1.3263116389837868, 5.076307421772379, 2.83039998216558, 5.637227808708663, -0.24719585720398252, 0.9654958688356965, 0.8250744063117339, 0.106919812831481, 0.05529920183083559, 3.8818781598847174, 0.33948807135877335, -0.11407645310631997, -0.2862344042358208, 0.5037507767058023, 0.0029951641389169836, 0.5727890793633557, 1.1637081488977552, 1.3726093615055173, -0.11567442990822563, 0.5656641495396881, 1.88027949804425, -0.10166989629776324, 0.7785682778008238, 0.08075987707350518, -0.04367810250294646, 1.0568334940977864, 0.6717275531882951, 1.5631848845614273, 1.2606228231990961, 1.6343034983862061, 1.4518763184396337, -0.11348384200070005, 1.5586945673340455, 0.1257351638521873, 2.218041941686106, 2.7796169042551035, 3.3321690960007864, 0.8352711030544371, 0.08151958072652365, -0.4130220825580142, 0.6481526177239645, 0.3079775470287034, 0.303886220643081, 2.3755944129928004, 0.6710000751698078, 1.0694427753518583, 0.687894458723141, 1.0449667854916433, -0.13128391852531407, 3.907651397331552, 0.4656865347253969, 0.6165781231755967, 0.943967424939838, 1.752799275612241, 6.672460735479688, 0.9767921726580091, 4.406258368205133, 1.6040298541403906, 2.5774681888554123, 3.448006082885941, 0.7064018712090525, -0.05178857880116661, -0.5317221260744489, -0.24723636777095825, 2.872537224732826, 1.4829214954560923, 0.4711989335093725, 1.124858385739611, -0.010829794847762253, 0.2146047887256266, -0.3571098059055743, 0.9922697391843978, 1.2117316390215063, 0.5775365033243876, 0.3499179521730289, 0.6192590025189655, -0.5884328106138608, 0.09676662223743748, 1.45432149768371, -0.461720832292174, -0.07112016143171584, -0.05335050416463882, 0.10053265391654609, 0.6546007926984516, -0.5244048038378649, 0.8097475597699633, 1.2243401329428694, 0.18866022100427338, -0.36763198980196876, -0.24347536569643513, 1.9282518384905312, 0.11555704783725584, -0.022854672265490095, 6.9695560606124545, 1.0130464099348022, 1.317704407201501, 2.119961868245353, 1.1091256862469532, 1.312706223448492, 1.134310758673307, -0.3066760207141551, 0.10375685635120102, 1.0302793142347197, 0.31171956119664723, 1.9052299044414656, -0.0212592125472455, 0.8847997399734646, 0.40076569824602304, 1.423790526571921, 3.440587503734358, 1.6668495278832829, 0.1376400287634123, -0.4738115101178658, -0.26132751337550175, 1.5249733881663459, 0.5075436409939511, 0.3055074119912087, 0.21516505020785526, 0.3419531199529815, -0.10026125955288956, -0.05148806965782304, -0.3399261891166715, 4.115939582004039, 2.2436653673244797, 1.5549180624091816, -0.4260002234329998, 0.09861716596702896, 1.1172844665837744, 0.9875323776242599, 0.0160788479563867, 1.9686503299431215, -0.05621446674147379, 2.98797784140757, 0.2606121339416978, -0.6180273759133473, 0.6793760530500037, 0.27728502849963976, 0.7502549717810711, 0.9703705920704737, 0.07707383687329195, 0.9142923356014752, 1.335672893358279, 2.1090309937751246, 2.0782408345517607, 1.291220786772643, 1.6375345742558176, 0.7523610256062059, -0.32982464911473075, 2.045020623140124, 3.1679901136002826, 0.293635673127862, 0.1194707790820464, 0.3578149311808001, 2.309871597822962, 1.0988016450372284, 0.8457505288226119, -0.2624368120050832, 2.692050072760296, -0.05561497777626134, 4.077261706689601, 0.220882196485074, -0.14020842917396792, 0.3856219404950001, -0.022763573260770054, -0.38686745712788817, 0.2262222232130544, 1.8177176406911042, 1.815026518524037, 1.0113665865811625, 4.938193354556926, 2.0803587799541785, 0.8090642315065089, 1.164312960187376, 0.4369312709851605, -0.034076738667653705, 1.1742244129317632, 0.43252171348480006, 1.433459384537684, 1.1342028525165548, -0.44424677507516963, 0.38883301074538323, 1.991132198115812, 0.5096426037251731, 0.43103509893831093, 0.2780467493135108, 0.20485231760256695, 0.716865634235361, -0.06878519593271315, 1.7576456841677524, 0.8783384320608105, 4.223811411140295, 0.07926420750338292, 2.867525761049629, 0.7164436444192623, 1.3552709021607674, 1.323070475444366, 3.8273431994604925, 9.348256322547504, 0.24309872529147447, 1.4363685488698503, -0.44333767883610053, 1.7029164079296835, 0.7919838901817602, 0.5269432440111961, 0.7621836132900792, 0.985325259185978, 0.7914153185437438, 0.6966202001798505, -0.4405172622934592, 7.101089388278135, 0.8972453851683104, 0.7038873038412521, 3.3364977561692344, 2.7450157854042647, 0.3589293997947174, 2.1302024281117666, -0.5236489538601696, 3.2477695461740606, 0.1989803583794103, -0.28195776479188617, 0.04339423061419345, 1.3718311043807483, 0.9724902246866716, -0.12744892678366226, 0.5288967269510847, 0.7359539720799986, 1.2443434391860366, 0.25699954731652785, 0.9739372694654258, 0.6767203491815448, 3.807051285739047, 3.73425599484517, 2.944355299457622, -0.18277078759424537, 0.2752196627403434, 2.8439914785461604, 0.5012208623865788, -0.2758475652977932, -0.21381415368833645, 1.524256887085544, -0.08655957840832551, 3.286537378968757, -0.31343200415412453, -0.08772067333504274, -0.45289431411771897, 1.8778476532512776, 0.6473652741321538, -0.02589095639930883, 4.580435396185378, 0.6886906028919888, 1.278120692124749, 1.2883167702901628, 0.3732509486716824, -0.33606845988167133, 2.036286452962258, 1.3053410545034168, 1.9454201939449214, 1.5867199593360488, 0.04143421100790601, 0.05496349191820982, -0.046823534417137824, 1.6296192976967907, 0.08524270174444881, 0.8442883483696648, -0.21659277412523215, 0.9713174012029546, 0.11847614550549679, 2.063644203214876, 0.664940656107526, -0.20910350912523235, 1.2425030430873978, 1.2896881738445383, -0.5587826778816247, 0.6493327920340002, 1.0039281183766735, 0.24490892038484047, 2.69407311867136, -0.2403331623303463, 0.5723365624804291, 2.435453668655087, -0.2073303856595522, 0.957472327492354, 0.9974445756289032, 0.6537415394081636, 1.8601755286995916, 0.07090902885217965, 1.5635053791542264, 0.5099351708807651, 3.639998121779663, 0.678619380885684, 0.4048498227158608, 0.6214017871220447, 1.8836813915284671, 1.3125201288097457, 1.7927858806011008, 0.9404373878169969, 0.691728391523678, 0.009268568216145301, 1.4676929927998943, 0.2756420214243276, 3.4350168151179217, 0.8884543070891564, 2.7328970419295198, 0.8026184572548951, -0.3983326695828978, 0.9691045397307136, 0.35543410122872454, 0.3596750557815711, 0.025062881871905196, -0.05808687306732585, 0.7171290400864205, 1.8360942592581986, 0.05268506882073187, 0.44428790503480475, 0.5537555414543873, 0.4165633070160759, 2.556901255982031, -0.07398401476938365, 1.0550227561931504, 2.0736954171789694, 0.5478876001373003, 0.5773696161964772, 0.3624299454934674, 0.2754608972530592, 0.21900689314545385, 0.5504146656063953, -0.3284041918556174, 0.5290501516326067, 3.0338177358926766, 0.6806481868582077, 0.49513962538352474, 3.3622551718633806, 0.163811807838651, -0.417066190678674, 3.514757200205892, 0.8596561586788682, 0.8227484705363741, -0.3224091259864389, -0.08270093570272985, 0.8699817779311141, 2.250911352046505, 1.43439798835009, -0.6728862285447217, 0.7243396255415777, -0.2321089189944242, 0.49214720354402886, 0.8422706668091169, -0.5964296244130269, 0.5304819092230617, 0.9162705568069338, 2.898182750173444, 4.412836204832398, 3.897883732261273, 0.41319499178760477, 0.8486330792459085, -0.3915352382519536, 0.27385744562552294, 0.5965720326309949, -0.1189677883013881, -0.036486352791937904, 0.619969921013906, 0.9709420527894466, 2.319149436303662, 0.20305828344347998, -0.179612005047725, 0.025724888720863426, 0.3836833446286281, 0.9517062719654077, 0.6440264774892994, -0.3735736208550601, 0.5787999814165306, -0.7046544328457116, 1.3722938016844584, 0.7240321839400865, 1.8302949538082998, 1.5888301211324034, -0.7439962841497492, 1.7076921717074098, 0.7214185645484832, 0.0845080045955191, 2.162694213545998, 1.1699380860735937, -0.20331736614892781, 0.18305345479974244, 0.3549523078357104, -0.19021965536347207, 0.8397603102716238, -0.16873881033914928, 1.0551704239182755, -0.31822701368316664, -0.24111204283999255, -0.3999946806178727, 3.5386315990858845, -0.726139063505272, 3.147982373947541, 4.325586370134603, 1.1866447506136732, 1.6740368665106287, -0.06166095594741261, 1.3058083810741343, 0.7322903159601037, 1.8903817260313218, 1.4369136648878067, -0.5760414407054837, 0.09518009803515182, 1.5115717839067995, 0.6776944086500325, 0.4843114110697593, 0.8966638879318971, 2.8626433579067525, 0.43135108305998293, 0.07257625359302544, -0.050771473761003216, 2.6912549579576814, 1.1684343264577426, 1.453125008711046, 0.002865014718755665, 1.549092736174527, -0.268735807000944, -0.3668929764972808, 4.098533762282822, -0.16306727167110413, 2.783202296410055, 3.57118680434475, 2.267017041758986, -0.021008284371967445, 0.8686579260482339, 1.3184026370736044, 2.615880454169923, 1.048784729208987, 0.38845384090570456, 1.3171641187083538, 0.34939945802157846, 1.935959678854668, 0.9282864690855275, 3.7550625143865375, -0.07010084130737104, 2.144088059661141, -0.17847267691940494, 6.253928687984366, 0.9340914415616588, 7.157652577295332, 0.36081005758587614, 0.03225547865819811, -0.16722986215972435, 5.244546743107079, 4.240942098215977, 2.9794457239492713, 2.828097598555777, 1.5568337366578784, 0.805832452741833, 1.0916381829557893, 0.6510638968465043, 0.30849746311926096, 5.290349307746686, 0.5752160327811833, -0.444054671333703, 2.4492420225147744, 0.36470050575083457, 0.6819906332102339, 0.4587478162932974, 0.6822499525704715, 0.5161055388423437, -0.45689324072682636, 0.5530342216849189, -0.02395291173598013, 0.8331746031714931, 0.19846415702834386, 1.3072136095899283, 1.9928498080355452, 0.31705447691764865, 0.9089969167319563, 1.0429085710461776, -0.1316764774313065, 1.261017014054234, -0.21403658075657916, -0.0021039542421072976, 1.6000384752343568, 1.2507905637519388, 2.713448795869024, 0.7705978876408617, 0.7132501055650935, -0.08840181523722812, 3.100458735988304, 1.412247401667365, 0.8148367718868537, 3.5223294996999606, 0.02632252315708783, 0.11623592107009095, 3.200407590389501, 0.1349967559134746, 1.9053814178033037, 0.016538887296376537, 0.2512872930359904, 0.27585756590095056, 4.452507677006468, -0.024437571909072142, -0.3636069755058371, 0.7300640870107975, 1.2759883487112327, -0.5118279844528859, 0.21093291000134684, -0.14335247567035747, 1.8571982828790823, 0.2578471976580008, 1.1104297316348384, 1.0654306205768616, 1.1477421230348002, 0.7203953272099339, 5.024769088710247, 0.7097912534006365, 1.0978209452753642, 0.4497574333170953, 1.4716081107456231, -0.13911005760351747, 3.8088627118491543, 0.9236811896415682, -0.3474995980217249, 3.019318197451856, -0.22115746119042645, 0.02052848820814046, 0.07567085223009218, 1.2595062523527263, 0.2635717785242184, 0.8499958611983025, 5.779557817637849, 0.20485566902099817, 1.6948449925695512, -0.04282948252008256, 0.2584787812791014, 0.8448767422984496, 1.700410590658982, 1.0356090911640634, 2.117407448982659, 0.42383969821521483, 0.18314609491807854, 0.6348404130896106, 1.4103981344259853, -0.4684364372344376, 5.1927694559167685, 6.665813246462987, -0.023138061617565153, 1.5256588833610727, 0.2471571534849355, 2.3004025286045118, -0.027869143011656772, 0.6474535460335546, 1.5081478105904105, 2.7034693677384523, -0.0971734838291709, 5.18976989184132, 1.7592359101784458, 0.06700500122997743, 0.9302905883877779, 0.8350715536730262, -0.4545908849218038, 1.104047402126719, 0.2501305595781782, 0.5049308325580568, 1.9603471343655805, 2.074138832294789, -0.7005035213623159, 3.084619979340573, 5.181443877849811, 0.018754260998729233, 2.035013395426907, 0.6718158378627244, 4.0209022612408, 1.3474403823794296, 0.9943504748036476, 1.0192549732072376, 0.7548911402963738, 2.1209517877145725, 0.6512759229099212, 0.8634391393278231, 1.0816276116321242, -0.10381939188038569, 1.6364631623123524, 2.53806350261785, 0.2228407874640017, 1.0459027523123239, 2.5316807902347715, 0.3430742510774716, -0.494227243712839, 1.9822209701402511, 0.23778002401408327, -0.3049868519015464, 0.8203582328014762, -0.611850732467807, 0.5065430520222423, 0.13586229945230244, 3.7124137272302047, -0.2197024337438095, 2.1196820439340542, -0.23186801634588317, 0.124826217771276, -0.5476702411246059, 3.445420716097635, 1.5145768288824155, 0.1331709980436282, 2.8097497763501607, 1.0781373526339482, 0.27302848587569883, 0.9212604170557561, 0.7027615745440041, -0.5955568997037377, 0.12124528620133579, 1.4815741377981229, 0.9242225780792235, 4.198917583078325, 0.23708717480098884, 0.8746240517288109, 1.6298385258446624, 1.1398856691578167, 0.9415081317604823, 2.045481143241505, 0.6793512284132968, 2.917963513138476, -0.45492952678046794, -0.46568039602724065, 1.3517144832505243, 0.22841791735111783, -0.1778019993708958, -0.625316000947493, 0.26227490929753317, 0.4507995529223461, 0.8269904577978773, 0.5533895871999979, 0.8784275820914453, 0.32275842781511943, -0.38384624255002475, -0.20104600568227404, -0.3334885039806692, 1.1533620885517801, 2.0704632288347686, -0.39089504215902837, 0.9919904565928694, 0.8705309511590522, -0.46161877609304225, 1.428345647690299, 0.8301203587144479, 0.6860595950458395, 2.106224612908704, 1.3438564545601697, 1.4777112336892206, 1.339795629492365, 0.7181169855885865, 3.0899273304134196, 2.5189127100835074, -0.13449678659205577, -0.3500678639786995, 1.5204020363987616, -0.14779016638099418, 1.6292867466303838, 0.8727468970642869, 0.31969675106832507, 0.3779805604862725, 2.686350906128908, 0.10661626275268077, 0.6914878385898717, -0.05267290708401895, 0.36785325202059527, 0.11028316075371358, -0.48671261109057484, 0.041541665714160514, 0.30086441338262837, -0.2898064355274411, 2.4884352898626614, 0.2924643490508123, 1.3361383374341829, 0.853263639036983, -0.21146631917915293, 1.820613390042582, 2.5977687160239755, 2.532941883973825, 0.1465353302069361, 1.213810408996146, 1.2568463359455468, 0.08625844620081491, -0.12112862198012786, 1.8743900986839157, 0.2697213099688325, -0.3009663255771069, 4.7397830685483795, 0.46519287855930314, 1.1198197538821661, 0.2413059935435662, 3.5131996736808526, 1.7919125754783582, 0.6786693299375257, 0.35085071500610243, 1.7283466952326503, 0.4148360807463505, -0.09766205898767788, -0.5692850960862138, 1.0195532614680065, 1.6528109573527576, 2.5144142732568557, 3.717439334026732, 1.3499518916204778, 1.3815754172964438, 0.4393149398631677, 0.18276886801566894, 2.5532055272228944, 0.40051369827949124, -0.473424480061133, -0.2602643015348012, 0.5857493972547851, 5.8155462631799, 2.930635840100958, 0.05460064349497906, -0.33105215180372294, 1.484724761195542, -0.0765253262851543, 1.6764737928391558, 0.6476465204827866, 2.3541778604308883, -0.23198526358792093, 0.7383868542157486, 0.9047137488426793, 0.44578934283294513, 0.029322978797192922, 0.06335288093775038, 1.868051626107476, 0.34141213792474545, 1.8487919858587243, 0.5207182115301401, 0.49774039205869935, -0.08557928688609928, 0.1523690066329937, -0.6415269060912485, 1.4044900065424035, 3.1117262537476176, 1.1013896727012034, 1.0289959989795285, 2.0182724945055823, 0.1305696807412784, 9.470827290884126, -0.4693364692739229, 0.6164100487564037, 0.4047173360032641, 0.12034722539502951, 0.2955151263220748, 0.09985731087055827, 1.618499993392391, 0.026397404550594805, 0.14890980552208877, 0.19758870260843886, 0.1792275557542704, 2.3441365417064546, 0.5029135459170861, 0.9551188682602787, -0.2469617458659661, 2.3370444637961763, 0.7880110769407791, -0.5492824648246768, 1.0143852544867848, 0.9433674102022669, -0.621122800381984, 2.938285319263111, 3.8405136229472117, 1.5468292132485453, 1.1671968822452223, 0.3282113132438227, 2.1870451086876326, 0.7902923992786335, 8.955554469256981, 2.02601028413023, 0.3347310865458084, 0.11068649190295865, 0.4351718739990138, 0.527376102634646, 1.8644684393837254, 3.078293863422708, 0.8414717664092033, 1.0732299667178546, 0.5258700775316159, -0.5430191333656951, 0.6042074206391552, 0.548761111999319, 2.122879437602821, -0.4138642699629417, 0.5449352797616349, -0.31047370424749043, 1.1196542003326275, 0.772673067683902, -0.6170165428089629, 0.1766933730782989, 7.122754155677711, 0.5037999393460699, -0.21566326210407427, -0.6336322681221072, 0.2890548102012491, 2.685236014675219, 0.24990677007312945, 1.0635271425536281, 1.4378228033927565, 0.7276146999143609, 0.7563902771468947, 0.45618990888746147, -0.4247902269447995, 0.5418191536008736, 0.15954481026104883, -0.3969929867359293, 2.793636026603244, 5.090748724473853, 1.6726871751528667, 1.3131869355214567, 0.14367898914166743, 0.022661632549986654, 0.21302807265573387, -0.07715219363125525, 1.1608989622705845, 0.9969460385202837, 3.2293688475056506, 1.2653728566979972, 1.5294266150359217, -0.424414984507012, 0.1349803277331707, 0.07232281293810572, -0.4123804800463373, 1.276051561545105, -0.2776067759874169, 0.8398305000413941, 0.8067617772828828, -0.3129774519666584, 0.7206712436169083, 5.33619646920636, 0.03258191598961768, 2.0783849731068775, 0.3587916399099196, 1.0982769538961281, 5.168525591375003, 0.9370416332850093, 1.0446869627896005, 1.4431910867926923, 0.6826077806361937, 0.1618619355770552, -0.006661441101596721, 0.19895081890485988, 1.3679508951414805, 1.7677560466842648, 1.0068474048125582, 1.4247433302878418, -0.20732230003435448, 2.7071185545426566, 0.3594119549175845, 1.6875707296245723, 3.317241835951654, 0.045984453389942725, -0.06295034300410585, 1.0548293661791663, 0.9113492895194983, 1.4135303370296404, 1.039489130562493, 0.5773010487472108, -0.34442566241910266, 0.28897030717840333, 0.5922001151856353, 0.2368657233850786, -0.19651412678490188, 0.7878166986244337, 5.0396266093178035, 0.1682695654808959, 0.43631520993940387, 0.34126113322439156, 0.8930657179911221, 0.33420784002167614, 6.388607843030386, -0.4625095863652604, 0.6462908941970036, -0.4995651153278228, -0.09625327953022011, 0.3965959744863199, 2.9926933508755993, 0.14537404200106696, 1.583337644253135, 1.145513457507283, -0.04292038716067259, 0.3157342064990494, 1.1053854842617157, 2.567811290083195, 2.423811833089366, 0.650092574881455, -0.05598427808801654, 1.9711688218739951, 0.01912043510673067, 5.62501700314832, 0.060217469731129514, 0.13292622620592076, 3.8545914615401173, 0.2765439618378749, 0.6139901518429927, 3.135520676466161, 1.0487026645665884, 0.9374424352977866, 3.043693138472112, 4.794347315613078, 6.673027862132512, 2.87278463400423, 0.35051203442785295, -0.4422852455705698, 2.355892624700811, 2.023717493983451, 2.0743274802578453, 4.708261977806371, 0.4918691987003414, 4.315083463793705, 0.17015441828133637, 2.385888860747875, 0.6128736366973633, 1.6393056000327633, 0.06524084280972353, 0.2219390079215997, 0.8935680836123392, 0.7565384064463763, 5.329747807939938, 0.36510680022090014, 2.2746420537172067, 1.8072985129818635, -0.08464418130954943, 0.2889904785007462, 1.2306834221708889, 0.9228035472732143, -0.24501340211224998, -0.5682064696945348, -0.21993942471120032, 0.06957377062785897, -0.2605674827719239, -0.22879506411124473, -0.2627237982641648, -0.33073018923301734, 0.4862161307714956, 1.8286202258096176, 0.6523335892222588, 0.4732928623322734, 1.2938205832395715, -0.03584356995937732, 6.63535101725103, 2.5047591017590505, 2.8542242893499874, 3.3550682046241835, 3.721609057318072, 2.2484947635508044, 0.3821967332347418, 0.2107784726554296, 1.9000120236666644, 1.683146789885737, 0.46623415189325734, 7.5706899973973485, 4.146978164185643, -0.6892597592738152, 1.5137023721011493, 0.6874986733084416, -0.23983265747043725, 0.028823389752616002, 1.2860459096735686, 4.018971634267162, 0.19037512705282955, -0.2261030712602874, 1.2115274747766778, 0.515950421528957, -0.08954154669828795, 2.7488619167221096, 0.8446697571651811, -0.4483620647734068, 2.6880996823124175, 1.5290053503902996, 2.0037615249122602, 2.0488461831150797, -0.43250987164409305, 3.053705670865871, 0.2792052323313099, -0.004003133956338112, 0.5906897068350447, -0.12166634352847328, -0.2909897572532123, 1.8133461903661767, 1.2509807599563647, 2.376749995664951, 0.37683604564432693, 1.4095896608314682, 0.19181795891690157, 0.4151969681344425, 0.6438469978869514, 1.4328527858759754, 0.1724018388462767, 0.6767949148603212, 1.3345851969887907, 2.1085590666014427, 1.9384127746931363, 1.3165514799448998, -0.2124557614207182, 0.3369582234855961, 0.2855534993910489, 2.0755725996487695, 1.952724485925784, 0.8836855903864784, 0.4763885700712396, 1.8662671887894526]\n"
     ]
    }
   ],
   "source": [
    "# Example usage\n",
    "historical_returns = cleaned_yahoo_data.pct_change().dropna()\n",
    "optimal_weights = optimize_portfolio(historical_returns)\n",
    "\n",
    "print(f\"Optimal portfolio weights: {optimal_weights}\")\n",
    "\n",
    "# Anomaly detection\n",
    "anomalies = detect_anomalies(cleaned_yahoo_data['Close'])\n",
    "simulation_results = monte_carlo_simulation(historical_returns['Close'])\n",
    "\n",
    "print(f\"Detected anomalies: {anomalies}\")\n",
    "print(f\"Monte Carlo simulation results: {simulation_results}\")\n"
   ]
  },
  {
   "cell_type": "code",
   "execution_count": 19,
   "id": "570dd1c0-a32d-42c7-a509-0bd7d3eb269d",
   "metadata": {},
   "outputs": [
    {
     "data": {
      "application/vnd.jupyter.widget-view+json": {
       "model_id": "77c4bf141f10442eaea6cf95538f04f1",
       "version_major": 2,
       "version_minor": 0
      },
      "text/plain": [
       "Text(value='', description='Ticker:')"
      ]
     },
     "metadata": {},
     "output_type": "display_data"
    },
    {
     "data": {
      "application/vnd.jupyter.widget-view+json": {
       "model_id": "f78363c6aa784e63af8f28929714ec85",
       "version_major": 2,
       "version_minor": 0
      },
      "text/plain": [
       "Text(value='', description='Start Date:')"
      ]
     },
     "metadata": {},
     "output_type": "display_data"
    },
    {
     "data": {
      "application/vnd.jupyter.widget-view+json": {
       "model_id": "a5c175e273fc4a5eac351edc01c02082",
       "version_major": 2,
       "version_minor": 0
      },
      "text/plain": [
       "Text(value='', description='End Date:')"
      ]
     },
     "metadata": {},
     "output_type": "display_data"
    },
    {
     "data": {
      "application/vnd.jupyter.widget-view+json": {
       "model_id": "faf5384f47b2494e86be01ba819aaa00",
       "version_major": 2,
       "version_minor": 0
      },
      "text/plain": [
       "Button(description='Submit', style=ButtonStyle())"
      ]
     },
     "metadata": {},
     "output_type": "display_data"
    }
   ],
   "source": [
    "# Function to display user interface\n",
    "def create_user_interface():\n",
    "    ticker_input = widgets.Text(description='Ticker:')\n",
    "    start_date_input = widgets.Text(description='Start Date:')\n",
    "    end_date_input = widgets.Text(description='End Date:')\n",
    "    submit_button = widgets.Button(description='Submit')\n",
    "    \n",
    "    def on_button_click(b):\n",
    "        ticker = ticker_input.value\n",
    "        start_date = start_date_input.value\n",
    "        end_date = end_date_input.value\n",
    "        data = fetch_yahoo_finance_data(ticker, start_date, end_date)\n",
    "        cleaned_data = clean_data(data)\n",
    "        normalized_data = normalize_data(cleaned_data)\n",
    "        standardized_data = standardize_data(cleaned_data)\n",
    "        \n",
    "        # Display cleaned data\n",
    "        display(HTML(\"<h3>Cleaned Data</h3>\"))\n",
    "        display(cleaned_data.head().style.set_table_attributes('class=\"table table-striped\"').set_caption(\"Cleaned Data\"))\n",
    "\n",
    "        # Display normalized data\n",
    "        display(HTML(\"<h3>Normalized Data</h3>\"))\n",
    "        display(normalized_data.head().style.set_table_attributes('class=\"table table-striped\"').set_caption(\"Normalized Data\"))\n",
    "\n",
    "        # Display standardized data\n",
    "        display(HTML(\"<h3>Standardized Data</h3>\"))\n",
    "        display(standardized_data.head().style.set_table_attributes('class=\"table table-striped\"').set_caption(\"Standardized Data\"))\n",
    "\n",
    "        # Forecast future values\n",
    "        rf_future_data, rf_future_predictions = forecast_future_values(rf_model, cleaned_data)\n",
    "        future_df = pd.DataFrame({'Date': rf_future_data.index, 'Predicted': rf_future_predictions})\n",
    "        display(HTML(\"<h3>Future Predictions</h3>\"))\n",
    "        display(future_df.style.set_table_attributes('class=\"table table-striped\"').set_caption(\"Future Predictions\"))\n",
    "\n",
    "        # Portfolio Optimization\n",
    "        historical_returns = cleaned_data.pct_change().dropna()\n",
    "        optimal_weights = optimize_portfolio(historical_returns)\n",
    "        display(HTML(f\"<h3>Optimal Portfolio Weights</h3><p>{optimal_weights}</p>\"))\n",
    "\n",
    "        # Risk Management\n",
    "        anomalies = detect_anomalies(cleaned_data['Close'])\n",
    "        simulation_results = monte_carlo_simulation(historical_returns['Close'])\n",
    "        display(HTML(f\"<h3>Detected Anomalies</h3><p>{anomalies}</p>\"))\n",
    "        display(HTML(f\"<h3>Monte Carlo Simulation Results</h3>\"))\n",
    "        \n",
    "        # Interpret Monte Carlo Simulation Results\n",
    "        results_df = pd.DataFrame({'Simulation Result': simulation_results})\n",
    "        mean_result = results_df.mean()[0]\n",
    "        variance_result = results_df.var()[0]\n",
    "        \n",
    "        display(HTML(f\"<p><strong>Mean of Simulated Returns:</strong> {mean_result:.2f}</p>\"))\n",
    "        display(HTML(f\"<p><strong>Variance of Simulated Returns:</strong> {variance_result:.2f}</p>\"))\n",
    "\n",
    "        # Recommendations\n",
    "        display(HTML(\"<h3>Recommendations</h3>\"))\n",
    "        display(HTML(f\"<p>Based on the Monte Carlo simulation results, the mean simulated return is {mean_result:.2f}, and the variance is {variance_result:.2f}. This indicates the expected range of outcomes for your investment.</p>\"))\n",
    "        display(HTML(\"<p>Consider adjusting your portfolio based on the simulation results. For example, if the simulated results show high volatility or lower-than-expected returns, you may want to consider diversification or other risk management strategies.</p>\"))\n",
    "        display(HTML(\"<p>Regularly monitor and update your portfolio based on new data and simulations to stay aligned with your financial goals.</p>\"))\n",
    "        display(HTML(\"<p>Consult with a financial advisor for personalized advice based on these results and your overall investment strategy.</p>\"))\n",
    "\n",
    "    submit_button.on_click(on_button_click)\n",
    "    display(ticker_input, start_date_input, end_date_input, submit_button)\n",
    "\n",
    "# Create the user interface\n",
    "create_user_interface()\n"
   ]
  },
  {
   "cell_type": "code",
   "execution_count": 11,
   "id": "b7ae0d55-2f76-4c45-b6cf-2acc85b14f8e",
   "metadata": {},
   "outputs": [
    {
     "name": "stdout",
     "output_type": "stream",
     "text": [
      "Optimal portfolio weights: [0.         0.         0.89190439 0.         0.         0.10809561]\n"
     ]
    }
   ],
   "source": [
    "# Function to calculate portfolio return and risk\n",
    "def portfolio_performance(weights, returns):\n",
    "    portfolio_return = np.sum(returns.mean() * weights) * 252\n",
    "    portfolio_risk = np.sqrt(np.dot(weights.T, np.dot(returns.cov() * 252, weights)))\n",
    "    return portfolio_return, portfolio_risk\n",
    "\n",
    "# Function to minimize the negative Sharpe ratio\n",
    "def minimize_sharpe_ratio(weights, returns, risk_free_rate=0.01):\n",
    "    portfolio_return, portfolio_risk = portfolio_performance(weights, returns)\n",
    "    return - (portfolio_return - risk_free_rate) / portfolio_risk\n",
    "\n",
    "# Optimization constraints\n",
    "def optimize_portfolio(returns):\n",
    "    num_assets = len(returns.columns)\n",
    "    initial_weights = num_assets * [1. / num_assets]\n",
    "    bounds = tuple((0, 1) for asset in range(num_assets))\n",
    "    constraints = ({'type': 'eq', 'fun': lambda x: np.sum(x) - 1})\n",
    "    \n",
    "    result = minimize(minimize_sharpe_ratio, initial_weights, args=(returns,), method='SLSQP', bounds=bounds, constraints=constraints)\n",
    "    return result.x\n",
    "\n",
    "# Example usage\n",
    "historical_returns = cleaned_yahoo_data.pct_change().dropna()\n",
    "optimal_weights = optimize_portfolio(historical_returns)\n",
    "\n",
    "print(f\"Optimal portfolio weights: {optimal_weights}\")\n"
   ]
  },
  {
   "cell_type": "code",
   "execution_count": 12,
   "id": "5cbd3f9c-02f8-46af-89ec-3b7de15c9449",
   "metadata": {},
   "outputs": [
    {
     "name": "stderr",
     "output_type": "stream",
     "text": [
      "C:\\Users\\PAVAN\\AppData\\Roaming\\Python\\Python311\\site-packages\\statsmodels\\tsa\\base\\tsa_model.py:473: ValueWarning: A date index has been provided, but it has no associated frequency information and so will be ignored when e.g. forecasting.\n",
      "  self._init_dates(dates, freq)\n",
      "C:\\Users\\PAVAN\\AppData\\Roaming\\Python\\Python311\\site-packages\\statsmodels\\tsa\\base\\tsa_model.py:473: ValueWarning: A date index has been provided, but it has no associated frequency information and so will be ignored when e.g. forecasting.\n",
      "  self._init_dates(dates, freq)\n",
      "C:\\Users\\PAVAN\\AppData\\Roaming\\Python\\Python311\\site-packages\\statsmodels\\tsa\\base\\tsa_model.py:473: ValueWarning: A date index has been provided, but it has no associated frequency information and so will be ignored when e.g. forecasting.\n",
      "  self._init_dates(dates, freq)\n"
     ]
    },
    {
     "name": "stdout",
     "output_type": "stream",
     "text": [
      "Detected anomalies: Date\n",
      "2020-01-02   -43.661170\n",
      "2020-07-31     9.986509\n",
      "2020-09-03   -10.473174\n",
      "2022-01-28    11.259786\n",
      "2022-10-28    11.036419\n",
      "2022-11-10    12.059666\n",
      "dtype: float64\n",
      "Monte Carlo simulation results: [2.183056013340061, -0.08528802367292287, 0.6764431504276776, 0.512747985467477, -0.1881416388567294, 0.45813015918999467, 0.24747207282840678, 0.22402912992283763, 0.0038573154993728487, 0.3847216372715401, 1.7233631434878633, 0.6860633544973009, 2.1470172675254666, 1.6769530530353358, 1.5291071968686838, 1.0625643426236184, 0.9102889321029153, -0.31836685996131575, 0.9218029443974249, 1.291666113527612, 1.1017773965674929, 0.13383859244519392, 2.9545485969208682, 0.44929574520562854, 0.23468664496770786, -0.11732005967740877, -0.3722559679704639, 1.6855263525602449, 0.9248887218572983, 0.651629276647461, 1.1379436419220794, 0.8374226761713519, 0.27928837992502964, 0.25299734810561847, -0.17151814247697394, 4.0212683412236325, 1.839378327044165, 1.9759979768030886, 3.321422817969891, 2.0063604340138346, 1.527976783758104, 0.17004597879291006, 0.3728716345523957, 0.14620527790830318, 1.298349632846489, -0.1711664969029526, 0.61932692660409, 1.6034885522478222, -0.07052217262914551, 0.7771294356570853, 2.8893496731804684, 0.8845626305895637, 2.11346956387672, 0.3555071733362012, 1.2604878961868446, 2.5257333265448247, 1.3244385711154911, 2.0535868580886576, 3.5057918740553857, 2.4012379447585555, 1.127018881937507, 2.7812668270181096, 0.6635386501827243, 0.19176151729895818, 2.161424172215897, -0.21123517358348476, 0.036430123401044456, 2.4119127176001447, 0.6840314383736137, 3.998330332393434, 4.163592870431719, 0.8780632723720319, 0.047380370940720784, 2.2077578940552085, 0.37352027472850113, 1.4630651880786423, 0.18370615915231214, -0.022738502725026866, 0.8915122309141152, -0.3161128416042195, 0.036967864531598726, 0.9423029160258833, -0.6218680694748364, 2.2980318501828925, 0.3640163502079279, 0.9290707701098173, 0.3678408295037119, 1.2474359196469051, 0.11915614773159167, 0.3223768966084781, 3.2745528610522774, 0.3371062286336066, 3.012665479940136, 1.245998667730663, 1.7254679615296968, 0.07516431359945175, -0.5342784747631358, 0.7810425477191687, 4.595334064732612, 0.3089869403145875, 0.23841398938287806, -0.6701438885804716, 0.3977936265354365, -0.2780669334263023, 4.642780589222171, 1.233610486592783, 0.5231319930993057, 0.679425871609084, -0.26800979386246493, 0.22075436498412837, 1.6896128271638822, 1.7736027346496832, 0.9014529435040035, 0.2815099216002166, 0.3709388377552143, 1.3314499825392114, 1.6794475721236077, 0.47344909925816503, 0.10842953224203411, 1.0870326757875959, 0.949712147477713, 0.0022050976039822423, -0.3305994414578408, -0.07302793093713289, 2.926408054957943, 1.3224461953746656, 4.059892373459111, 1.1345367749802162, 0.7540374015257336, 1.331809444626718, -0.4337162860519733, 0.330394694647538, 0.9857075681866998, 0.9424634530998754, 0.2698928533454117, 4.097146326409464, 2.882486705756283, 1.4383561672215581, 2.546867463501782, 1.5172797017482909, 2.439406868312934, -0.42850273523132254, 1.079602299752596, 2.0905791818975192, -0.06355524038064508, 1.2737758917609505, 0.045452911138202046, 0.8573353968351032, 0.8621127581892316, 1.9865094077902983, 0.11797357764992489, 1.5192575756760118, -0.3661528224785121, -0.00040193316985182026, 0.8738724792952623, 0.19516089187689145, -0.20365189882137558, 2.0012732969381952, 3.2123069306228356, 0.9736456280394217, 0.2200260312199369, 0.8466372306642402, 1.7467399671816746, 0.9738100316683445, 0.008964677246468433, -0.25192077201099294, 2.318093321440996, 0.550426875244671, -0.20529351688742592, -0.17277357191213927, 0.37054964460921247, 0.15121169972858595, 0.3332467817431004, -0.19699081992078038, 2.7427471751078314, 0.8444265442719341, -0.5468900979341822, 0.42652757517676987, 0.7823458495961069, 1.2642976211017256, -0.043426623259244956, 0.1447420008230198, 2.109663408090733, -0.15809369583884814, 0.6994368870025531, 0.6712346812240808, 0.8682165325215518, 0.10341842491137099, 3.8905242773211928, 0.23180380156873115, 1.2825200453522267, 0.9536662598180907, 0.8264775091731673, -0.39576010759396574, -0.13067852447550543, -0.06089503019754605, 1.6926201979832216, 0.19042932889854391, 0.23543713365534158, 2.091928375738458, -0.2913012338888896, 3.1002204134804208, 0.25947007044942105, 0.6125477967463873, 0.864788180678649, -0.031323301328412545, 0.07105684243403987, -0.0612212876046444, -0.4077473177428681, 1.9305852045019756, 0.877729656934789, 0.7974047562266813, 0.16457114775137072, 1.180078888575371, 0.15322855880856623, 0.27428006287993156, 0.4108998747101056, 1.4926384369360917, 0.21483273195994057, 1.451645014909583, 3.6726998329563525, 1.0972612626994924, 1.0833410327616027, 0.10268492206053303, 0.8408643005448742, 3.3207626157300574, 3.644934539802616, 0.2957024457848545, 0.8873077208964799, 2.7473251349710273, 1.002038096479704, 0.21480814244073243, 1.499603819897966, 1.2985220804551525, 1.9630448605332198, 0.3485764323153975, 1.8079845471527913, 0.30716343796712, 2.2215086945298097, -0.16063700764063116, 2.4290771317440183, 1.267724430671373, 0.9174513447582657, 0.8752790813640616, 0.5430931718296548, 0.8471592945311925, 0.42756752602974224, 3.3559391312003264, 2.093292689351077, 2.627205225505504, 2.6602380747802012, 2.03470003546163, 0.02409411587740773, 0.20112724895769052, -0.21681551154962275, 3.2945501026039086, 1.312145285825709, 0.02320402446881631, 0.44705438494565297, 0.24221186101710224, 5.911786356139812, 2.5801193903454935, 1.6254060929749423, 0.2851709451859654, 1.0382274528537798, 1.8033286267152442, 2.4581925492020336, -0.33452360310807727, 2.3235691687367956, -0.10154145258570801, 3.355259695963733, 1.3052563678469222, 1.4394761936578906, 1.170652477588599, 2.4344167843250992, 0.2769749849919987, -0.482015005821428, 1.3564143152682147, -0.12121369198569776, 0.1518166656163198, 2.819463391887815, 0.24422659418974813, 1.8682774314137842, 2.363783246855278, -0.1038369938500554, 1.386209283723748, 1.1476918340248057, 0.9634081404746411, -0.6033316555136694, 0.7756495425698593, 0.7237513449626927, 1.0448324266605429, 0.870268469991456, 4.640973289547625, -0.5538524915325918, 0.8675274911248143, -0.3031931736062591, -0.21144000855345046, 2.405148221634476, 0.011612467472099208, -0.6728421916636382, -0.45512045360958164, 0.9697256440490405, 0.25604200776072217, 3.095565026910103, 1.3401916566763474, -0.08429737446362595, 4.3791961602864395, 0.7802922940287069, 2.0936013668053337, 0.487836851622119, 1.6565219862565566, -0.11685977742196318, 0.7513709599233103, 0.5169704844541778, 1.2315773291487964, 0.8701080421517067, 0.20437866439894825, 0.08834667558616194, 3.04734676501033, 2.3018863571848955, 2.7394119489838995, 0.2634691675674161, 0.015091561988433533, 1.2437079293245605, 0.29582621344195226, 0.07981864544101747, 0.6683331144870077, 0.6581684677268866, 0.11551463749755042, 0.7771361723972579, 2.1502946691760956, 1.0460886516948054, 0.04529448064607511, 1.878835335583437, -0.5273081405909237, 0.6496243694722936, 4.332106314566828, 1.931510918982652, 3.5159996698397222, 0.49675574497833774, 1.6483874493222563, 0.9687784361429082, -0.26415348652496196, 2.20257024784931, 0.825820019239327, 1.1058340690162969, 0.5812093693381712, 2.4004850011099146, -0.3119130538795625, 0.5684224174495722, 0.4007052194994898, 0.4592158861061686, 0.5221899472009828, 2.783801368167287, -0.2944472075379667, 0.8434992413216276, 1.642502834768822, 1.1746617208678942, 0.9158156061544547, -0.19602875709870315, 1.3461045831967602, -0.14321293104026422, 1.7011162661391794, 0.5535796467291572, 1.4087526167994602, -0.4313590738842259, 0.3704251035319699, 2.3848679150177494, 0.8281302966952164, -0.10981202913725352, 0.1538468496808001, -0.23007001884347245, -0.6188810053655545, 2.366902269033777, 0.2840727344292364, 4.5714533194580715, -0.3795011125732499, 1.223516679466751, 0.8580409849623907, 0.8679758451749136, -0.20476427340447545, 0.3379139831995168, -0.27768067528998275, 0.5768536072186836, 1.450019844964125, 0.46377175834964945, 1.5465171165390363, -0.2106842946826809, -0.023358702126410114, -0.15985050131844336, -0.3530825892682553, -0.22423125315279113, 0.15668834130853426, 2.061214226745566, 0.9593341775512099, 1.999492992408189, 0.04297698857077359, -0.6537801550649538, 0.7915280794768458, 3.43132235514636, 1.47369184714124, -0.44229458585038384, 1.6951264778435684, 0.6121893624768202, 1.0483336785354673, 2.138889609663242, 0.7603477551838795, -0.010295185114871597, 5.509373142029416, 0.7591493295590401, 0.7999882515611405, 4.114769279224427, 1.7682134525110924, 3.7578586599460673, 2.6534455645519577, 1.362124836965604, 0.9395886258747346, 2.1269140155008746, -0.23061360943512532, 0.8440487425732583, -0.702214511750778, 4.254889086294155, 1.5434662818857374, -0.3289644763272953, -0.44849423267186606, 2.341096526529522, 1.6962990621827707, 0.877614179328781, 0.01777834869804784, 0.4644689388136902, 0.14860471456127033, 1.5637954022916536, 0.4030863946374752, 3.6822129899286775, 0.6137716945613272, 0.7992557194043688, 0.7521772035923622, 1.4982636051195182, -0.09612138766253486, -0.43607881794177805, 0.18676886760113653, 0.8546592208645138, 1.0388175618667566, 0.021039374486761853, -0.6004169858386315, 1.2086635406727706, 0.4608933068458949, 1.171423138005831, 2.14069206866176, 0.624784907951726, 3.725589440056817, -0.006471858176940404, -0.10936539620961006, 1.5802227042133077, 0.06143906513820929, -0.24095905919646665, 0.6216255020758592, 0.5330276936511393, 0.6279137719774646, -0.17220867558461384, 1.8157932195650934, 0.4163959557303236, -0.36997700647954224, -0.14256628536567983, 1.121854124876032, 3.753042123064323, 3.333780017380117, 3.572725195350971, 0.6423815995017066, 0.1945855929947644, 0.49688191581729746, 1.1215349260201872, 2.1616425028103965, 0.012792546033283614, 1.4161545690108905, -0.3893455298774159, -0.42054810487762007, 1.3277934701122107, 4.67409244326568, 1.625667621557223, 1.1073581868332854, 0.8710228451418973, -0.17038783875659103, 1.7323861346494227, 2.1350210000780803, 1.8594413877248162, 0.5368852771949135, 0.15177834387202926, 1.7021046409127942, 0.39016263380685645, 2.5671429871236, 0.23065186384494285, -0.5315129814926264, 2.6188305496522855, 1.066426228076522, 0.11850423107593233, 1.2664359458756946, 2.826498191416985, 0.641458812228815, 0.1707520043802404, 0.9752771065983756, 0.2930703776364232, 3.310248075250228, 1.2251188902243957, -0.07956138948458202, 2.4627018257736695, 2.5170629923837295, 0.3721605003628974, 0.5270000195056184, 0.6082144481265317, 0.41712728756192563, 0.44376307688209615, 0.7446992235681962, -0.5637453689341225, 0.49354964363780085, 1.8586372986117552, -0.18601202648125958, 0.5293214060703988, 2.9774581103359186, -0.16425031826070535, 0.17951435311214659, 0.30050016449641337, 0.7151021635632264, -0.23726355210638939, 0.20174580399991693, 0.5633483599070317, 1.3244989943785082, 2.313136987182216, 0.685227451807815, 4.052789865045711, 0.0428419326090308, 0.9597405089815918, -0.47125879468390475, 0.4762953251518831, 0.518267378871494, 2.056230514868076, 2.6929057011964517, 1.1715070293354106, 1.3188761307580967, 1.8754356194897235, 2.8791828931600465, 1.5887126486986354, -0.0940791471671627, 2.2521469961734595, 0.30002812021759695, -0.5577860352714961, 1.7483708720312152, 1.2807977565488353, 1.7640724824505853, 0.06751490691247297, 2.026799798489906, 7.127585969539391, -0.1373380209568128, -0.04775889424380342, 1.9913973426291554, 1.3100186079217022, 0.5962247899203945, 2.11177146902624, 2.105456551803429, -0.41683769815761784, 0.21128038156292006, 0.38510031252910726, 0.74171026066094, 1.4799202604513586, -0.4029458916567138, -0.49160269404157364, -0.6687079177293314, -0.13426617734888113, 0.836755274898044, 0.2055323879304587, -0.36826258130275225, 0.5836829641051158, 0.43875113157763623, 3.2613173387384142, 1.842004971337106, 0.6804863405903288, 4.163975245400981, 1.9447202388142335, 0.6155603344969489, 2.0299901257117803, -0.7187173803524358, 2.6905154877350537, 1.1499879612690211, 0.6896739366769917, 1.2396763367666335, 1.5582861207527734, 3.2916139284673447, 1.8951959407320111, 1.5363862559817583, 7.653875409967018, 1.503634588065125, -0.3439833231754694, 0.8732180459958736, -0.42228316068566585, 0.5675330527214548, 3.7704326547009126, 0.36015016323869364, 0.37945352887175576, 1.819692044023208, 1.2869828069845628, 0.13216664681068346, 0.6486397990814778, 0.15308409015388746, 1.4454706022333839, 0.5661320729994357, 0.8524799322961167, -0.7303302168294392, 1.4013687813692592, 1.6601750979294696, 0.9458058142272987, 2.318130326758425, 0.7475510359196773, 0.6384475334002531, 0.4108217288422866, 0.5555720570445559, 4.5190326484750045, -0.13675220937551313, -0.1393455780743017, 3.513223563730901, 2.699800897877093, 0.7632588770299071, 1.0163274426907347, 0.11674857592569632, 2.9600836736575196, -0.18987964260150236, -0.08868984429766402, 0.5392975924007386, -0.26186584933282275, -0.30041932958574047, -0.3109715913256823, -0.020192930038087864, 1.113911594107405, 3.3482174951160095, 2.239107781648016, 0.7692221648377313, 0.10259971803756063, 0.9396835193470678, 1.4106926406668743, 2.4668498513819683, 0.6100536042875255, -0.6150771034000548, 1.9806712122088794, 0.2220691327251183, 1.2045766020427142, 1.0588786430180765, 0.017993800637687407, 0.28244860238259384, 1.6657958681796092, 0.5870051264526741, 1.713849902164105, 1.865078975382212, -0.031950612200299155, 2.759951263918023, 0.7471092095336127, 1.3280705110658895, 0.7317853469453199, 2.4505734589532513, -0.24379924725071656, 2.1300946094881534, -0.051657318375634476, 1.2483304945548728, 0.22663979854606775, 2.904096592653592, 0.46311525280667665, 1.8118633384877416, 0.50228945746591, 3.4839105145237808, 2.872991219820522, 0.34667032864092806, 1.0299775821019046, 1.2755844246934958, 0.25914753610581065, 3.5630929831820337, -0.4687249056497912, 0.04471638267025613, 4.344122170252546, 1.15470070188183, 2.3375326136871775, -0.23675277644672477, 4.745941089373087, 7.043700835099054, 4.0480615241884, 0.05498342204130835, 1.5331853048183288, 0.02458969208040318, -0.5772454600621884, 0.8703651155761711, 0.05127287557665272, 0.7577118358441757, 0.451296682376364, -0.23281331171827813, 1.2152526184683774, 0.047163629051408806, 2.4120962479458754, 4.554671915341585, 0.6317909910826538, 2.968037820525778, -0.4525707481638418, 0.051089408431078676, -0.2638563167448632, 0.43260607075245194, 0.9640566997013067, 0.1441996911324679, 1.7669641841304031, 2.7765015260216273, 0.6523774725590883, 1.0245689515557364, 2.6302116716662414, 0.34698820132948693, 0.7757165807323343, 1.1474782147794111, 0.5913541486786402, 0.2935071684419457, 1.8468342964074687, -0.09420119423457207, -0.3579973810031174, 0.7860411548624273, 0.021108769595013177, 1.365284703214746, 3.165906718834048, 0.23417140931716096, 1.2825933012783524, 1.040713759068443, 3.849357851804566, 1.0338840396544016, 0.48381238585452424, -0.18331885899910894, 1.0125456917605997, 1.0183417046738477, 2.203818225619856, 1.900818800651368, -0.07460988200781182, 2.46276479921812, 1.3276508142263084, 0.06899382997419345, 1.4121458309600032, -0.05673462679754371, 1.6246622372464508, -0.02168523114362586, -0.01131916319783488, -0.09106358929118952, 1.0772424200585906, 1.2008856710216533, 1.0153116575081294, 1.5576255986354655, 1.1557228650044444, 2.5321102531992894, -0.07098472237802822, 6.855898720580937, -0.3117235680445871, 0.4568510251835909, 2.1159781513939073, 4.231158416680256, -0.4026034660323259, 4.347786813645578, 3.4595752500275516, 0.22971140198168372, 0.06318026262102294, 3.0726614413784556, 0.1436296952243219, 3.802462089205724, 0.7142984941997108, -0.0695798026751181, 0.04430650396253921, -0.29563691785140733, 3.331778354047172, 0.6420588977783213, -0.09022208664213838, 3.31917574627876, 0.12301464249769012, 0.7481003477279475, 0.20431780248124154, 0.7189084529570646, -0.05013441755915593, 0.32170539636449424, 3.79065811065066, 0.8602209488436818, 0.6274244353792193, -0.22718468252187773, 1.6736207661104294, 3.3064876421131633, 1.4069289423263758, 0.8340361815203499, 0.29423183031267963, 2.078052410204702, 2.592875192601975, -0.0639544639163826, 0.730208126247555, 1.6915117826721366, 2.2809380322253863, 1.3105836968926345, 0.8286710674509004, -0.24873008024457244, 1.268171244227604, 0.41981668942777395, 0.9113958397936786, 0.8836056568562229, -0.3870402583099021, 2.3763691059212326, -0.09539326583540042, -0.31147465673006636, 1.3069675802151877, -0.01401065490420017, -0.6200119792294099, 3.572860751611567, 0.9754691524380812, 0.7271969631626674, 2.9929173044072974, 0.2437842227629916, 3.101344354809515, -0.09251841999528176, 1.3316344475941984, 1.2108188691493096, 0.338993214713337, 0.8097262595463546, 0.45400657525570054, -0.41328140254734447, 1.3037938373585916, 2.2098118656178265, 0.1583438352573121, 0.6392473670109249, -0.22585211511199865, 0.39617841042577706, 0.2732937819096808, 4.256731585073254, 0.08507303099447405, 1.6767784307440725, 0.10557358468113742, 0.6650078733422335, 4.816559072162026, 0.3362747794101786, 0.5012572460153235, -0.20926145365241922, -0.06661931993443582, 0.8819902175042202, -0.4218358320970731, 5.0392135536465625, -0.4237249060946555, -0.023354422992276858, -0.4014515855584918, 2.055980344364097, 0.4908605753139734, 4.495006990625072, 0.7460921577081072, 0.16139543186299976, 0.2609398862053858, 1.7016726382877305, 0.27180847939251906, 1.6275880620177716, 2.7326617846930152, 0.15089723188604687, 1.3334884702995349, 0.04851542977440326, 0.6727954207464246, 0.7510916254886657, 2.105991302027275, 0.43319052440228356, -0.6277294771933823, 2.956486797761257, 1.3355562717756624, 4.153539417968639, 3.097696472477912, 1.3266345992141302, 5.428064495565959, -0.07307538313188577, 1.3772475886478417, 0.5303944110693035, -0.10604949916643336, 0.21109654497845742, 0.3848435681525799, -0.43667245544323086, -0.6715018650349017, 0.032985474736298315, 0.6859654645372277, -0.2736312968656879, 0.7939034793236883, -0.13615528364306118, 0.06560623864933013, 0.44401195691586604, 2.0838428053245797, 3.2832480180846497, 2.7565306970692927, 0.6458975579574282, -0.12155156499886033, 1.0855580061938754, 1.1199574301596504, 1.460147659563828, 1.1364498659862483, 3.1277189673724735, 2.2355984910589224, 1.5395361045547067, 0.22936736335973018, 1.2531505114339727, 1.0054244452251, 0.8632319862722317, 0.9650107293726538, -0.14807930426008964, -0.2499176722690959, 0.15187106546867124, 0.5301596111243356, 1.7185183735992715, 0.837319233324582, -0.2815384601228059, 4.570572154761008, -0.09552700761976607, 0.4005593080619987, 0.08749191761046493, 0.39928045466112727, 1.0914978768512977, 0.6179850813708978, 1.1693030835876432, 0.39265371192113707, 0.8626553969899535, 1.5651499929138755, 1.6867457446199636, 0.5714090608405513, 0.6333555298139633, 1.2570887172648146, 3.7401121282919494, 0.8586809508959243, 0.45918755172052617, 2.117917886593236, 0.974342824991334, 4.4099473501888715, 1.224626387039942, 1.0881836443979478, -0.40483654255818324, 0.5713358254047254, 0.11490367723123174, 0.5972958902959666, -0.32145639149563654, 1.7124205674747186, 0.7860453863546406, 4.471202263942089, 0.7796396791415687, 2.995470622322058, 0.4833472675627155, 0.7334375309070373, 0.2535081325665862, 1.7118475508222715, -0.3900415477885206, 1.9492883703532016, -0.165418795788963, -0.7461089870249041, 0.6506101078482593, -0.007987205497324568, 0.3966883168156621, 0.09693822631526783, -0.11386736997580982, 1.3583902655519449, 2.310130414541774, 0.3662736162562068, -0.022310451447091317, -0.2689642465828874, 0.48494982997097025, 2.239731965227578, 4.623469525918323, -0.018171002149557025, 1.5565235680002147, 1.677081868265324, 1.0663838969073605, 0.007513163129667211, -0.24564379550171067, 0.44110692596869105, 1.2881008322087788, 0.5572836343633636, 3.544360794838008, -0.6215814977448538, -0.2526814540538532, 0.5334448736150403, 0.994535031620414, -0.2502324817380187, -0.21999651177690738, -0.4274070265696128, 0.15914834423869073, 0.8808785628100835, 5.870968758189285, 0.442369965540627, 0.19218265861403316, 1.0896442114763514, -0.1964139848286851, 0.03202153120404527, 3.641351469283748, 0.0710689426704394, 0.6414818719746018, 0.7694713185707056, 2.5001353013953547, 0.6691131847463956, 2.5246071947833606, 2.1917067650503514, 3.5191911750649734, 1.924871553494416, 0.7073893699988587, -0.3399141110896785, 0.0367827547568742, 0.3398241594549831, -0.3651963018896728, 2.395064922048526, 0.3273744498121811]\n"
     ]
    }
   ],
   "source": [
    "# Anomaly detection function\n",
    "def detect_anomalies(data):\n",
    "    residuals = sm.tsa.ARIMA(data, order=(1, 0, 0)).fit().resid\n",
    "    std_residuals = np.std(residuals)\n",
    "    anomalies = residuals[np.abs(residuals) > 3 * std_residuals]\n",
    "    return anomalies\n",
    "\n",
    "# Monte Carlo simulation function\n",
    "def monte_carlo_simulation(returns, num_simulations=1000):\n",
    "    simulation_results = []\n",
    "    for _ in range(num_simulations):\n",
    "        simulated_returns = np.random.choice(returns, size=len(returns))\n",
    "        simulated_cumulative_returns = np.cumprod(1 + simulated_returns) - 1\n",
    "        simulation_results.append(simulated_cumulative_returns[-1])\n",
    "    return simulation_results\n",
    "\n",
    "# Example usage\n",
    "anomalies = detect_anomalies(cleaned_yahoo_data['Close'])\n",
    "simulation_results = monte_carlo_simulation(historical_returns['Close'])\n",
    "\n",
    "print(f\"Detected anomalies: {anomalies}\")\n",
    "print(f\"Monte Carlo simulation results: {simulation_results}\")\n"
   ]
  },
  {
   "cell_type": "code",
   "execution_count": 13,
   "id": "6a9077e4-b66a-4fe6-920b-c785eb976f31",
   "metadata": {},
   "outputs": [
    {
     "data": {
      "application/vnd.jupyter.widget-view+json": {
       "model_id": "9a293ee48bf349f58b181ddd12928da5",
       "version_major": 2,
       "version_minor": 0
      },
      "text/plain": [
       "Text(value='', description='Ticker:')"
      ]
     },
     "metadata": {},
     "output_type": "display_data"
    },
    {
     "data": {
      "application/vnd.jupyter.widget-view+json": {
       "model_id": "818b1520403c44868e39f1e55c54730a",
       "version_major": 2,
       "version_minor": 0
      },
      "text/plain": [
       "Text(value='', description='Start Date:')"
      ]
     },
     "metadata": {},
     "output_type": "display_data"
    },
    {
     "data": {
      "application/vnd.jupyter.widget-view+json": {
       "model_id": "e5075f8afab44575adcaff298eb9d23e",
       "version_major": 2,
       "version_minor": 0
      },
      "text/plain": [
       "Text(value='', description='End Date:')"
      ]
     },
     "metadata": {},
     "output_type": "display_data"
    },
    {
     "data": {
      "application/vnd.jupyter.widget-view+json": {
       "model_id": "f93c942fc4534f65a9e32585ff3e4cb3",
       "version_major": 2,
       "version_minor": 0
      },
      "text/plain": [
       "Button(description='Submit', style=ButtonStyle())"
      ]
     },
     "metadata": {},
     "output_type": "display_data"
    }
   ],
   "source": [
    "# Function to display user interface\n",
    "def create_user_interface():\n",
    "    ticker_input = widgets.Text(description='Ticker:')\n",
    "    start_date_input = widgets.Text(description='Start Date:')\n",
    "    end_date_input = widgets.Text(description='End Date:')\n",
    "    submit_button = widgets.Button(description='Submit')\n",
    "    \n",
    "    def on_button_click(b):\n",
    "        ticker = ticker_input.value\n",
    "        start_date = start_date_input.value\n",
    "        end_date = end_date_input.value\n",
    "        data = fetch_yahoo_finance_data(ticker, start_date, end_date)\n",
    "        cleaned_data = clean_data(data)\n",
    "        normalized_data = normalize_data(cleaned_data)\n",
    "        standardized_data = standardize_data(cleaned_data)\n",
    "        \n",
    "        # Display cleaned data\n",
    "        display(HTML(\"<h3>Cleaned Data</h3>\"))\n",
    "        display(cleaned_data.head().style.set_table_attributes('class=\"table table-striped\"').set_caption(\"Cleaned Data\"))\n",
    "\n",
    "        # Display normalized data\n",
    "        display(HTML(\"<h3>Normalized Data</h3>\"))\n",
    "        display(normalized_data.head().style.set_table_attributes('class=\"table table-striped\"').set_caption(\"Normalized Data\"))\n",
    "\n",
    "        # Display standardized data\n",
    "        display(HTML(\"<h3>Standardized Data</h3>\"))\n",
    "        display(standardized_data.head().style.set_table_attributes('class=\"table table-striped\"').set_caption(\"Standardized Data\"))\n",
    "        \n",
    "        # Forecast future values\n",
    "        rf_future_data, rf_future_predictions = forecast_future_values(rf_model, cleaned_data)\n",
    "        gb_future_data, gb_future_predictions = forecast_future_values(gb_model, cleaned_data)\n",
    "        \n",
    "        # Create DataFrame for display\n",
    "        rf_future_df = pd.DataFrame({'Date': rf_future_data.index, 'Predicted': rf_future_predictions})\n",
    "        gb_future_df = pd.DataFrame({'Date': gb_future_data.index, 'Predicted': gb_future_predictions})\n",
    "        \n",
    "        # Display future predictions\n",
    "        display(HTML(\"<h3>Future Predictions with Random Forest Model</h3>\"))\n",
    "        display(rf_future_df.style.set_table_attributes('class=\"table table-striped\"').set_caption(\"Random Forest Predictions\"))\n",
    "\n",
    "        display(HTML(\"<h3>Future Predictions with Gradient Boosting Model</h3>\"))\n",
    "        display(gb_future_df.style.set_table_attributes('class=\"table table-striped\"').set_caption(\"Gradient Boosting Predictions\"))\n",
    "        \n",
    "        # Portfolio Optimization\n",
    "        historical_returns = cleaned_data.pct_change().dropna()\n",
    "        optimal_weights = optimize_portfolio(historical_returns)\n",
    "        display(HTML(f\"<h3>Optimal Portfolio Weights</h3><p>{optimal_weights}</p>\"))\n",
    "\n",
    "        # Risk Management\n",
    "        anomalies = detect_anomalies(cleaned_data['Close'])\n",
    "        simulation_results = monte_carlo_simulation(historical_returns['Close'])\n",
    "        \n",
    "        # Display anomalies\n",
    "        display(HTML(\"<h3>Detected Anomalies</h3>\"))\n",
    "        if anomalies.empty:\n",
    "            display(HTML(\"<p>No anomalies detected.</p>\"))\n",
    "        else:\n",
    "            display(anomalies.reset_index().rename(columns={'index': 'Date', 'Close': 'Anomaly'}).style.set_table_attributes('class=\"table table-striped\"').set_caption(\"Anomalies\"))\n",
    "\n",
    "        # Display Monte Carlo simulation results\n",
    "        display(HTML(\"<h3>Monte Carlo Simulation Results</h3>\"))\n",
    "        sim_df = pd.DataFrame({'Simulation Result': simulation_results})\n",
    "        display(sim_df.describe().style.set_table_attributes('class=\"table table-striped\"').set_caption(\"Monte Carlo Simulation Summary\"))\n",
    "\n",
    "    submit_button.on_click(on_button_click)\n",
    "    display(ticker_input, start_date_input, end_date_input, submit_button)\n",
    "\n",
    "# Create the user interface\n",
    "create_user_interface()\n"
   ]
  },
  {
   "cell_type": "code",
   "execution_count": null,
   "id": "1a5008c5-e683-4b9d-8258-d27267db1276",
   "metadata": {},
   "outputs": [],
   "source": []
  }
 ],
 "metadata": {
  "kernelspec": {
   "display_name": "Python 3 (ipykernel)",
   "language": "python",
   "name": "python3"
  },
  "language_info": {
   "codemirror_mode": {
    "name": "ipython",
    "version": 3
   },
   "file_extension": ".py",
   "mimetype": "text/x-python",
   "name": "python",
   "nbconvert_exporter": "python",
   "pygments_lexer": "ipython3",
   "version": "3.11.4"
  }
 },
 "nbformat": 4,
 "nbformat_minor": 5
}
